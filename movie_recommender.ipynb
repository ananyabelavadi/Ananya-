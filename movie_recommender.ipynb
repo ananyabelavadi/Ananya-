{
  "nbformat": 4,
  "nbformat_minor": 0,
  "metadata": {
    "colab": {
      "provenance": [],
      "authorship_tag": "ABX9TyMshoQAUIHGoQq6dDxO+tD/",
      "include_colab_link": true
    },
    "kernelspec": {
      "name": "python3",
      "display_name": "Python 3"
    },
    "language_info": {
      "name": "python"
    }
  },
  "cells": [
    {
      "cell_type": "markdown",
      "metadata": {
        "id": "view-in-github",
        "colab_type": "text"
      },
      "source": [
        "<a href=\"https://colab.research.google.com/github/ananyabelavadi/Ananya-/blob/main/movie_recommender.ipynb\" target=\"_parent\"><img src=\"https://colab.research.google.com/assets/colab-badge.svg\" alt=\"Open In Colab\"/></a>"
      ]
    },
    {
      "cell_type": "markdown",
      "source": [
        "**Movie Recommendation System using SVD**"
      ],
      "metadata": {
        "id": "4lkbb6TI_SXR"
      }
    },
    {
      "cell_type": "code",
      "source": [
        "!pip install surprise\n",
        "!pip install pandas\n"
      ],
      "metadata": {
        "colab": {
          "base_uri": "https://localhost:8080/"
        },
        "id": "4xwRfiYk8n7W",
        "outputId": "f012902f-c569-4fe6-d77f-738cae5f4f16"
      },
      "execution_count": null,
      "outputs": [
        {
          "output_type": "stream",
          "name": "stdout",
          "text": [
            "Collecting surprise\n",
            "  Downloading surprise-0.1-py2.py3-none-any.whl (1.8 kB)\n",
            "Collecting scikit-surprise (from surprise)\n",
            "  Downloading scikit_surprise-1.1.4.tar.gz (154 kB)\n",
            "\u001b[2K     \u001b[90m━━━━━━━━━━━━━━━━━━━━━━━━━━━━━━━━━━━━━━━━\u001b[0m \u001b[32m154.4/154.4 kB\u001b[0m \u001b[31m1.7 MB/s\u001b[0m eta \u001b[36m0:00:00\u001b[0m\n",
            "\u001b[?25h  Installing build dependencies ... \u001b[?25l\u001b[?25hdone\n",
            "  Getting requirements to build wheel ... \u001b[?25l\u001b[?25hdone\n",
            "  Preparing metadata (pyproject.toml) ... \u001b[?25l\u001b[?25hdone\n",
            "Requirement already satisfied: joblib>=1.2.0 in /usr/local/lib/python3.10/dist-packages (from scikit-surprise->surprise) (1.4.2)\n",
            "Requirement already satisfied: numpy>=1.19.5 in /usr/local/lib/python3.10/dist-packages (from scikit-surprise->surprise) (1.25.2)\n",
            "Requirement already satisfied: scipy>=1.6.0 in /usr/local/lib/python3.10/dist-packages (from scikit-surprise->surprise) (1.11.4)\n",
            "Building wheels for collected packages: scikit-surprise\n",
            "  Building wheel for scikit-surprise (pyproject.toml) ... \u001b[?25l\u001b[?25hdone\n",
            "  Created wheel for scikit-surprise: filename=scikit_surprise-1.1.4-cp310-cp310-linux_x86_64.whl size=2357249 sha256=d2e09c969399aa46a1f37d655f608a692ae7c4790443b4f9e271bb5eb0b1b10f\n",
            "  Stored in directory: /root/.cache/pip/wheels/4b/3f/df/6acbf0a40397d9bf3ff97f582cc22fb9ce66adde75bc71fd54\n",
            "Successfully built scikit-surprise\n",
            "Installing collected packages: scikit-surprise, surprise\n",
            "Successfully installed scikit-surprise-1.1.4 surprise-0.1\n",
            "Requirement already satisfied: pandas in /usr/local/lib/python3.10/dist-packages (2.0.3)\n",
            "Requirement already satisfied: python-dateutil>=2.8.2 in /usr/local/lib/python3.10/dist-packages (from pandas) (2.8.2)\n",
            "Requirement already satisfied: pytz>=2020.1 in /usr/local/lib/python3.10/dist-packages (from pandas) (2023.4)\n",
            "Requirement already satisfied: tzdata>=2022.1 in /usr/local/lib/python3.10/dist-packages (from pandas) (2024.1)\n",
            "Requirement already satisfied: numpy>=1.21.0 in /usr/local/lib/python3.10/dist-packages (from pandas) (1.25.2)\n",
            "Requirement already satisfied: six>=1.5 in /usr/local/lib/python3.10/dist-packages (from python-dateutil>=2.8.2->pandas) (1.16.0)\n"
          ]
        }
      ]
    },
    {
      "cell_type": "code",
      "source": [
        "# Download the MovieLens dataset\n",
        "!wget -nc https://files.grouplens.org/datasets/movielens/ml-latest-small.zip -O ml-latest-small.zip\n",
        "\n",
        "# Unzip the dataset\n",
        "!unzip -o ml-latest-small.zip\n"
      ],
      "metadata": {
        "colab": {
          "base_uri": "https://localhost:8080/"
        },
        "id": "FzQelWtY-AsD",
        "outputId": "8c26233f-3911-4d22-c8e3-b06ff28a1fee"
      },
      "execution_count": null,
      "outputs": [
        {
          "output_type": "stream",
          "name": "stdout",
          "text": [
            "--2024-06-18 06:11:04--  https://files.grouplens.org/datasets/movielens/ml-latest-small.zip\n",
            "Resolving files.grouplens.org (files.grouplens.org)... 128.101.65.152\n",
            "Connecting to files.grouplens.org (files.grouplens.org)|128.101.65.152|:443... connected.\n",
            "HTTP request sent, awaiting response... 200 OK\n",
            "Length: 978202 (955K) [application/zip]\n",
            "Saving to: ‘ml-latest-small.zip’\n",
            "\n",
            "ml-latest-small.zip 100%[===================>] 955.28K  --.-KB/s    in 0.1s    \n",
            "\n",
            "2024-06-18 06:11:05 (7.19 MB/s) - ‘ml-latest-small.zip’ saved [978202/978202]\n",
            "\n",
            "Archive:  ml-latest-small.zip\n",
            "   creating: ml-latest-small/\n",
            "  inflating: ml-latest-small/links.csv  \n",
            "  inflating: ml-latest-small/tags.csv  \n",
            "  inflating: ml-latest-small/ratings.csv  \n",
            "  inflating: ml-latest-small/README.txt  \n",
            "  inflating: ml-latest-small/movies.csv  \n"
          ]
        }
      ]
    },
    {
      "cell_type": "code",
      "source": [
        "import pandas as pd\n",
        "\n",
        "# Load the datasets\n",
        "movies_data = pd.read_csv('ml-latest-small/movies.csv')\n",
        "ratings_data = pd.read_csv('ml-latest-small/ratings.csv')\n",
        "\n",
        "# Display the first few rows of the datasets\n",
        "print(movies_data.head())\n",
        "print(ratings_data.head())\n"
      ],
      "metadata": {
        "colab": {
          "base_uri": "https://localhost:8080/"
        },
        "id": "OluZ_U7I-FYY",
        "outputId": "ee3811d8-fedc-461f-c83b-84f517675262"
      },
      "execution_count": null,
      "outputs": [
        {
          "output_type": "stream",
          "name": "stdout",
          "text": [
            "   movieId                               title  \\\n",
            "0        1                    Toy Story (1995)   \n",
            "1        2                      Jumanji (1995)   \n",
            "2        3             Grumpier Old Men (1995)   \n",
            "3        4            Waiting to Exhale (1995)   \n",
            "4        5  Father of the Bride Part II (1995)   \n",
            "\n",
            "                                        genres  \n",
            "0  Adventure|Animation|Children|Comedy|Fantasy  \n",
            "1                   Adventure|Children|Fantasy  \n",
            "2                               Comedy|Romance  \n",
            "3                         Comedy|Drama|Romance  \n",
            "4                                       Comedy  \n",
            "   userId  movieId  rating  timestamp\n",
            "0       1        1     4.0  964982703\n",
            "1       1        3     4.0  964981247\n",
            "2       1        6     4.0  964982224\n",
            "3       1       47     5.0  964983815\n",
            "4       1       50     5.0  964982931\n"
          ]
        }
      ]
    },
    {
      "cell_type": "code",
      "source": [
        "from surprise import Dataset, Reader\n",
        "\n",
        "# Create a Reader object with the appropriate rating scale\n",
        "reader = Reader(rating_scale=(0.5, 5.0))\n",
        "\n",
        "# Load the dataset into Surprise\n",
        "data = Dataset.load_from_df(ratings_data[['userId', 'movieId', 'rating']], reader)\n"
      ],
      "metadata": {
        "id": "MQQKthVw-Ikg"
      },
      "execution_count": null,
      "outputs": []
    },
    {
      "cell_type": "code",
      "source": [
        "from surprise.model_selection import train_test_split\n",
        "\n",
        "# Split the data into training and test sets\n",
        "trainset, testset = train_test_split(data, test_size=0.25)\n"
      ],
      "metadata": {
        "id": "-35J9JiI-Soy"
      },
      "execution_count": null,
      "outputs": []
    },
    {
      "cell_type": "code",
      "source": [
        "from surprise import SVD\n",
        "\n",
        "# Define the SVD algorithm\n",
        "algo = SVD()\n",
        "\n",
        "# Train the algorithm on the training set\n",
        "algo.fit(trainset)\n"
      ],
      "metadata": {
        "colab": {
          "base_uri": "https://localhost:8080/"
        },
        "id": "A5sza-d0-XQ7",
        "outputId": "2702d2f2-b1a6-40ee-c393-dd0e29ed3b91"
      },
      "execution_count": null,
      "outputs": [
        {
          "output_type": "execute_result",
          "data": {
            "text/plain": [
              "<surprise.prediction_algorithms.matrix_factorization.SVD at 0x79826c5fdd80>"
            ]
          },
          "metadata": {},
          "execution_count": 11
        }
      ]
    },
    {
      "cell_type": "code",
      "source": [
        "from surprise.model_selection import cross_validate\n",
        "\n",
        "# Perform cross-validation\n",
        "cross_validate(algo, data, measures=['RMSE', 'MAE'], cv=5, verbose=True)\n"
      ],
      "metadata": {
        "colab": {
          "base_uri": "https://localhost:8080/"
        },
        "id": "tPz72zFl-aTi",
        "outputId": "129435bd-4115-429e-efa4-5c0bc29e70aa"
      },
      "execution_count": null,
      "outputs": [
        {
          "output_type": "stream",
          "name": "stdout",
          "text": [
            "Evaluating RMSE, MAE of algorithm SVD on 5 split(s).\n",
            "\n",
            "                  Fold 1  Fold 2  Fold 3  Fold 4  Fold 5  Mean    Std     \n",
            "RMSE (testset)    0.8716  0.8749  0.8644  0.8764  0.8764  0.8728  0.0045  \n",
            "MAE (testset)     0.6726  0.6739  0.6646  0.6718  0.6708  0.6707  0.0032  \n",
            "Fit time          1.67    1.57    2.29    1.73    1.57    1.77    0.27    \n",
            "Test time         0.25    0.12    0.20    0.23    0.11    0.18    0.06    \n"
          ]
        },
        {
          "output_type": "execute_result",
          "data": {
            "text/plain": [
              "{'test_rmse': array([0.87164765, 0.87493315, 0.8643788 , 0.87643603, 0.87637262]),\n",
              " 'test_mae': array([0.6725878 , 0.67394297, 0.66461894, 0.67183649, 0.67075951]),\n",
              " 'fit_time': (1.6728947162628174,\n",
              "  1.5743987560272217,\n",
              "  2.2867603302001953,\n",
              "  1.7268469333648682,\n",
              "  1.57063627243042),\n",
              " 'test_time': (0.2504262924194336,\n",
              "  0.11761927604675293,\n",
              "  0.2040550708770752,\n",
              "  0.2324211597442627,\n",
              "  0.11347818374633789)}"
            ]
          },
          "metadata": {},
          "execution_count": 12
        }
      ]
    },
    {
      "cell_type": "code",
      "source": [
        "# Predict the rating for a specific user and movie\n",
        "user_id = 1  # User ID\n",
        "movie_id = 10  # Movie ID\n",
        "\n",
        "prediction = algo.predict(user_id, movie_id)\n",
        "print(f\"Predicted rating for user {user_id} and movie {movie_id}: {prediction.est}\")\n"
      ],
      "metadata": {
        "colab": {
          "base_uri": "https://localhost:8080/"
        },
        "id": "0WfA_UZj-qGd",
        "outputId": "64f5cefc-bfa6-4ec0-f27f-71cf1fc024ed"
      },
      "execution_count": null,
      "outputs": [
        {
          "output_type": "stream",
          "name": "stdout",
          "text": [
            "Predicted rating for user 1 and movie 10: 4.134846034427684\n"
          ]
        }
      ]
    },
    {
      "cell_type": "code",
      "source": [
        "# Get a list of all movie IDs\n",
        "all_movie_ids = movies_data['movieId'].unique()\n",
        "\n",
        "# Predict ratings for all movies that the user hasn't rated yet\n",
        "user_ratings = {movie_id: algo.predict(user_id, movie_id).est for movie_id in all_movie_ids}\n",
        "\n",
        "# Sort the movies by predicted rating in descending order\n",
        "recommended_movies = sorted(user_ratings.items(), key=lambda x: x[1], reverse=True)[:10]\n",
        "\n",
        "# Display the top 10 recommended movies\n",
        "print(\"Top 10 recommended movies for user\", user_id)\n",
        "for movie_id, rating in recommended_movies:\n",
        "    movie_title = movies_data[movies_data['movieId'] == movie_id]['title'].values[0]\n",
        "    print(f\"{movie_title}: {rating}\")\n"
      ],
      "metadata": {
        "colab": {
          "base_uri": "https://localhost:8080/"
        },
        "id": "Zo_GFUQz-u6Z",
        "outputId": "af440027-0da8-4bc2-8a3a-2c0edbdcf0b9"
      },
      "execution_count": null,
      "outputs": [
        {
          "output_type": "stream",
          "name": "stdout",
          "text": [
            "Top 10 recommended movies for user 1\n",
            "Twelve Monkeys (a.k.a. 12 Monkeys) (1995): 5.0\n",
            "Usual Suspects, The (1995): 5.0\n",
            "Bottle Rocket (1996): 5.0\n",
            "Pulp Fiction (1994): 5.0\n",
            "Shawshank Redemption, The (1994): 5.0\n",
            "In the Name of the Father (1993): 5.0\n",
            "Fargo (1996): 5.0\n",
            "Dr. Strangelove or: How I Learned to Stop Worrying and Love the Bomb (1964): 5.0\n",
            "Godfather, The (1972): 5.0\n",
            "Casablanca (1942): 5.0\n"
          ]
        }
      ]
    }
  ]
}